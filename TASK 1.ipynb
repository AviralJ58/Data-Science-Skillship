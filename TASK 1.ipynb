{
 "cells": [
  {
   "cell_type": "markdown",
   "metadata": {},
   "source": [
    "### 1.Provided a sentence in the form of string as a function parameter. Your task  is to implement a function so as to print the sentence such that each word in the sentence is reversed."
   ]
  },
  {
   "cell_type": "code",
   "execution_count": 1,
   "metadata": {},
   "outputs": [
    {
     "name": "stdout",
     "output_type": "stream",
     "text": [
      "Enter the sentence\n",
      "Hello, how are you?\n"
     ]
    }
   ],
   "source": [
    "s=input(\"Enter the sentence\\n\").split()"
   ]
  },
  {
   "cell_type": "code",
   "execution_count": 2,
   "metadata": {},
   "outputs": [
    {
     "name": "stdout",
     "output_type": "stream",
     "text": [
      ",olleH woh era ?uoy "
     ]
    }
   ],
   "source": [
    "for i in s:\n",
    "    print(i[::-1],end=' ')"
   ]
  },
  {
   "cell_type": "markdown",
   "metadata": {},
   "source": [
    "### 2. You are given n triangles. You are required to find how many triangles are unique out of given triangles. For each triangle you are given three integers a, b and c (the sides of a triangle). A triangle is said to be unique if there is no other triangle with same set of sides.\n"
   ]
  },
  {
   "cell_type": "code",
   "execution_count": 3,
   "metadata": {},
   "outputs": [
    {
     "name": "stdout",
     "output_type": "stream",
     "text": [
      "Enter number of triangles\n",
      "5\n",
      "7 6 5\n",
      "5 7 6\n",
      "8 2 9\n",
      "2 3 4\n",
      "2 4 3\n"
     ]
    }
   ],
   "source": [
    "n=int(input(\"Enter number of triangles\\n\"))\n",
    "triangles=[]\n",
    "for i in range (n):\n",
    "    sides=input().split()\n",
    "    a=int(sides[0])\n",
    "    b=int(sides[1])\n",
    "    c=int(sides[2])\n",
    "    s={a,b,c}\n",
    "    triangles.append(s)"
   ]
  },
  {
   "cell_type": "code",
   "execution_count": 4,
   "metadata": {},
   "outputs": [
    {
     "name": "stdout",
     "output_type": "stream",
     "text": [
      "Number of unique triangles is 1\n"
     ]
    }
   ],
   "source": [
    "count=0\n",
    "for i in range(len(triangles)):\n",
    "    if ((triangles[i] not in triangles[0:i]) and (triangles[i] not in triangles[i+1:])):\n",
    "        count+=1\n",
    "print (\"Number of unique triangles is\",count)"
   ]
  },
  {
   "cell_type": "markdown",
   "metadata": {},
   "source": [
    "### 3. Given an array of intervals where intervals[i] = [starti, endi], merge all overlapping intervals, and return an array of the non-overlapping intervals that cover all the intervals in the input."
   ]
  },
  {
   "cell_type": "code",
   "execution_count": 5,
   "metadata": {},
   "outputs": [],
   "source": [
    "intervals=[[1,3],[2,6],[8,10],[15,18]]"
   ]
  },
  {
   "cell_type": "code",
   "execution_count": 6,
   "metadata": {},
   "outputs": [
    {
     "data": {
      "text/plain": [
       "[[1, 6], [8, 10], [15, 18]]"
      ]
     },
     "execution_count": 6,
     "metadata": {},
     "output_type": "execute_result"
    }
   ],
   "source": [
    "output=[]\n",
    "for i in range (len(intervals)):\n",
    "    if i==len(intervals)-1:\n",
    "        if (intervals[i][0]>intervals[i-1][1]):\n",
    "            output.append(intervals[i])\n",
    "        break\n",
    "        \n",
    "    elif intervals[i][1]>=intervals[i+1][0]:\n",
    "        intervals[i][1]=intervals[i+1][1]\n",
    "        output.append(intervals[i])\n",
    "        \n",
    "    elif intervals[i][1]!=intervals[i-1][1]:\n",
    "        output.append(intervals[i])\n",
    "\n",
    "output"
   ]
  }
 ],
 "metadata": {
  "kernelspec": {
   "display_name": "Python 3",
   "language": "python",
   "name": "python3"
  },
  "language_info": {
   "codemirror_mode": {
    "name": "ipython",
    "version": 3
   },
   "file_extension": ".py",
   "mimetype": "text/x-python",
   "name": "python",
   "nbconvert_exporter": "python",
   "pygments_lexer": "ipython3",
   "version": "3.6.13"
  }
 },
 "nbformat": 4,
 "nbformat_minor": 4
}
